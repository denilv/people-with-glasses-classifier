{
 "cells": [
  {
   "cell_type": "code",
   "execution_count": 1,
   "metadata": {
    "scrolled": false
   },
   "outputs": [
    {
     "name": "stdout",
     "output_type": "stream",
     "text": [
      "/mnt/NVME1TB/Projects/people-with-glasses-classifier\n"
     ]
    }
   ],
   "source": [
    "cd ../"
   ]
  },
  {
   "cell_type": "code",
   "execution_count": 2,
   "metadata": {},
   "outputs": [],
   "source": [
    "%load_ext autoreload\n",
    "%autoreload 2"
   ]
  },
  {
   "cell_type": "code",
   "execution_count": 3,
   "metadata": {},
   "outputs": [],
   "source": [
    "from PIL import Image\n",
    "import matplotlib.pyplot as plt\n",
    "import pandas as pd\n",
    "import os\n",
    "import os.path as osp\n",
    "import random\n",
    "import numpy as np"
   ]
  },
  {
   "cell_type": "markdown",
   "metadata": {},
   "source": [
    "# CelebFaces Attributes (CelebA) Dataset\n",
    "https://www.kaggle.com/jessicali9530/celeba-dataset"
   ]
  },
  {
   "cell_type": "code",
   "execution_count": 4,
   "metadata": {},
   "outputs": [],
   "source": [
    "dataset_fld = 'data/celeba-dataset/'\n",
    "img_fld = osp.join(dataset_fld, 'img_align_celeba/img_align_celeba')"
   ]
  },
  {
   "cell_type": "code",
   "execution_count": 5,
   "metadata": {},
   "outputs": [
    {
     "data": {
      "text/html": [
       "<div>\n",
       "<style scoped>\n",
       "    .dataframe tbody tr th:only-of-type {\n",
       "        vertical-align: middle;\n",
       "    }\n",
       "\n",
       "    .dataframe tbody tr th {\n",
       "        vertical-align: top;\n",
       "    }\n",
       "\n",
       "    .dataframe thead th {\n",
       "        text-align: right;\n",
       "    }\n",
       "</style>\n",
       "<table border=\"1\" class=\"dataframe\">\n",
       "  <thead>\n",
       "    <tr style=\"text-align: right;\">\n",
       "      <th></th>\n",
       "      <th>image_id</th>\n",
       "      <th>5_o_Clock_Shadow</th>\n",
       "      <th>Arched_Eyebrows</th>\n",
       "      <th>Attractive</th>\n",
       "      <th>Bags_Under_Eyes</th>\n",
       "      <th>Bald</th>\n",
       "      <th>Bangs</th>\n",
       "      <th>Big_Lips</th>\n",
       "      <th>Big_Nose</th>\n",
       "      <th>Black_Hair</th>\n",
       "      <th>...</th>\n",
       "      <th>Sideburns</th>\n",
       "      <th>Smiling</th>\n",
       "      <th>Straight_Hair</th>\n",
       "      <th>Wavy_Hair</th>\n",
       "      <th>Wearing_Earrings</th>\n",
       "      <th>Wearing_Hat</th>\n",
       "      <th>Wearing_Lipstick</th>\n",
       "      <th>Wearing_Necklace</th>\n",
       "      <th>Wearing_Necktie</th>\n",
       "      <th>Young</th>\n",
       "    </tr>\n",
       "  </thead>\n",
       "  <tbody>\n",
       "    <tr>\n",
       "      <th>0</th>\n",
       "      <td>000001.jpg</td>\n",
       "      <td>-1</td>\n",
       "      <td>1</td>\n",
       "      <td>1</td>\n",
       "      <td>-1</td>\n",
       "      <td>-1</td>\n",
       "      <td>-1</td>\n",
       "      <td>-1</td>\n",
       "      <td>-1</td>\n",
       "      <td>-1</td>\n",
       "      <td>...</td>\n",
       "      <td>-1</td>\n",
       "      <td>1</td>\n",
       "      <td>1</td>\n",
       "      <td>-1</td>\n",
       "      <td>1</td>\n",
       "      <td>-1</td>\n",
       "      <td>1</td>\n",
       "      <td>-1</td>\n",
       "      <td>-1</td>\n",
       "      <td>1</td>\n",
       "    </tr>\n",
       "    <tr>\n",
       "      <th>1</th>\n",
       "      <td>000002.jpg</td>\n",
       "      <td>-1</td>\n",
       "      <td>-1</td>\n",
       "      <td>-1</td>\n",
       "      <td>1</td>\n",
       "      <td>-1</td>\n",
       "      <td>-1</td>\n",
       "      <td>-1</td>\n",
       "      <td>1</td>\n",
       "      <td>-1</td>\n",
       "      <td>...</td>\n",
       "      <td>-1</td>\n",
       "      <td>1</td>\n",
       "      <td>-1</td>\n",
       "      <td>-1</td>\n",
       "      <td>-1</td>\n",
       "      <td>-1</td>\n",
       "      <td>-1</td>\n",
       "      <td>-1</td>\n",
       "      <td>-1</td>\n",
       "      <td>1</td>\n",
       "    </tr>\n",
       "    <tr>\n",
       "      <th>2</th>\n",
       "      <td>000003.jpg</td>\n",
       "      <td>-1</td>\n",
       "      <td>-1</td>\n",
       "      <td>-1</td>\n",
       "      <td>-1</td>\n",
       "      <td>-1</td>\n",
       "      <td>-1</td>\n",
       "      <td>1</td>\n",
       "      <td>-1</td>\n",
       "      <td>-1</td>\n",
       "      <td>...</td>\n",
       "      <td>-1</td>\n",
       "      <td>-1</td>\n",
       "      <td>-1</td>\n",
       "      <td>1</td>\n",
       "      <td>-1</td>\n",
       "      <td>-1</td>\n",
       "      <td>-1</td>\n",
       "      <td>-1</td>\n",
       "      <td>-1</td>\n",
       "      <td>1</td>\n",
       "    </tr>\n",
       "    <tr>\n",
       "      <th>3</th>\n",
       "      <td>000004.jpg</td>\n",
       "      <td>-1</td>\n",
       "      <td>-1</td>\n",
       "      <td>1</td>\n",
       "      <td>-1</td>\n",
       "      <td>-1</td>\n",
       "      <td>-1</td>\n",
       "      <td>-1</td>\n",
       "      <td>-1</td>\n",
       "      <td>-1</td>\n",
       "      <td>...</td>\n",
       "      <td>-1</td>\n",
       "      <td>-1</td>\n",
       "      <td>1</td>\n",
       "      <td>-1</td>\n",
       "      <td>1</td>\n",
       "      <td>-1</td>\n",
       "      <td>1</td>\n",
       "      <td>1</td>\n",
       "      <td>-1</td>\n",
       "      <td>1</td>\n",
       "    </tr>\n",
       "    <tr>\n",
       "      <th>4</th>\n",
       "      <td>000005.jpg</td>\n",
       "      <td>-1</td>\n",
       "      <td>1</td>\n",
       "      <td>1</td>\n",
       "      <td>-1</td>\n",
       "      <td>-1</td>\n",
       "      <td>-1</td>\n",
       "      <td>1</td>\n",
       "      <td>-1</td>\n",
       "      <td>-1</td>\n",
       "      <td>...</td>\n",
       "      <td>-1</td>\n",
       "      <td>-1</td>\n",
       "      <td>-1</td>\n",
       "      <td>-1</td>\n",
       "      <td>-1</td>\n",
       "      <td>-1</td>\n",
       "      <td>1</td>\n",
       "      <td>-1</td>\n",
       "      <td>-1</td>\n",
       "      <td>1</td>\n",
       "    </tr>\n",
       "  </tbody>\n",
       "</table>\n",
       "<p>5 rows × 41 columns</p>\n",
       "</div>"
      ],
      "text/plain": [
       "     image_id  5_o_Clock_Shadow  Arched_Eyebrows  Attractive  Bags_Under_Eyes  \\\n",
       "0  000001.jpg                -1                1           1               -1   \n",
       "1  000002.jpg                -1               -1          -1                1   \n",
       "2  000003.jpg                -1               -1          -1               -1   \n",
       "3  000004.jpg                -1               -1           1               -1   \n",
       "4  000005.jpg                -1                1           1               -1   \n",
       "\n",
       "   Bald  Bangs  Big_Lips  Big_Nose  Black_Hair  ...  Sideburns  Smiling  \\\n",
       "0    -1     -1        -1        -1          -1  ...         -1        1   \n",
       "1    -1     -1        -1         1          -1  ...         -1        1   \n",
       "2    -1     -1         1        -1          -1  ...         -1       -1   \n",
       "3    -1     -1        -1        -1          -1  ...         -1       -1   \n",
       "4    -1     -1         1        -1          -1  ...         -1       -1   \n",
       "\n",
       "   Straight_Hair  Wavy_Hair  Wearing_Earrings  Wearing_Hat  Wearing_Lipstick  \\\n",
       "0              1         -1                 1           -1                 1   \n",
       "1             -1         -1                -1           -1                -1   \n",
       "2             -1          1                -1           -1                -1   \n",
       "3              1         -1                 1           -1                 1   \n",
       "4             -1         -1                -1           -1                 1   \n",
       "\n",
       "   Wearing_Necklace  Wearing_Necktie  Young  \n",
       "0                -1               -1      1  \n",
       "1                -1               -1      1  \n",
       "2                -1               -1      1  \n",
       "3                 1               -1      1  \n",
       "4                -1               -1      1  \n",
       "\n",
       "[5 rows x 41 columns]"
      ]
     },
     "execution_count": 5,
     "metadata": {},
     "output_type": "execute_result"
    }
   ],
   "source": [
    "# extract labels\n",
    "celeba_df = pd.read_csv(osp.join(dataset_fld, 'list_attr_celeba.csv'))\n",
    "celeba_df.head()"
   ]
  },
  {
   "cell_type": "code",
   "execution_count": 6,
   "metadata": {},
   "outputs": [
    {
     "data": {
      "text/plain": [
       "-1    189406\n",
       " 1     13193\n",
       "Name: Eyeglasses, dtype: int64"
      ]
     },
     "execution_count": 6,
     "metadata": {},
     "output_type": "execute_result"
    }
   ],
   "source": [
    "celeba_df.Eyeglasses.value_counts()"
   ]
  },
  {
   "cell_type": "code",
   "execution_count": 7,
   "metadata": {},
   "outputs": [],
   "source": [
    "celeba_df['filename'] =  img_fld + '/' + celeba_df['image_id']"
   ]
  },
  {
   "cell_type": "code",
   "execution_count": 8,
   "metadata": {},
   "outputs": [],
   "source": [
    "celeba_df['has_glasses'] = celeba_df.Eyeglasses\n",
    "celeba_df.loc[celeba_df.has_glasses == -1, 'has_glasses'] = 0\n",
    "celeba_df['dataset'] = 'celeba'"
   ]
  },
  {
   "cell_type": "code",
   "execution_count": 9,
   "metadata": {},
   "outputs": [
    {
     "data": {
      "text/html": [
       "<div>\n",
       "<style scoped>\n",
       "    .dataframe tbody tr th:only-of-type {\n",
       "        vertical-align: middle;\n",
       "    }\n",
       "\n",
       "    .dataframe tbody tr th {\n",
       "        vertical-align: top;\n",
       "    }\n",
       "\n",
       "    .dataframe thead th {\n",
       "        text-align: right;\n",
       "    }\n",
       "</style>\n",
       "<table border=\"1\" class=\"dataframe\">\n",
       "  <thead>\n",
       "    <tr style=\"text-align: right;\">\n",
       "      <th></th>\n",
       "      <th>image_id</th>\n",
       "      <th>filename</th>\n",
       "      <th>has_glasses</th>\n",
       "    </tr>\n",
       "  </thead>\n",
       "  <tbody>\n",
       "    <tr>\n",
       "      <th>0</th>\n",
       "      <td>000001.jpg</td>\n",
       "      <td>data/celeba-dataset/img_align_celeba/img_align...</td>\n",
       "      <td>0</td>\n",
       "    </tr>\n",
       "    <tr>\n",
       "      <th>1</th>\n",
       "      <td>000002.jpg</td>\n",
       "      <td>data/celeba-dataset/img_align_celeba/img_align...</td>\n",
       "      <td>0</td>\n",
       "    </tr>\n",
       "    <tr>\n",
       "      <th>2</th>\n",
       "      <td>000003.jpg</td>\n",
       "      <td>data/celeba-dataset/img_align_celeba/img_align...</td>\n",
       "      <td>0</td>\n",
       "    </tr>\n",
       "    <tr>\n",
       "      <th>3</th>\n",
       "      <td>000004.jpg</td>\n",
       "      <td>data/celeba-dataset/img_align_celeba/img_align...</td>\n",
       "      <td>0</td>\n",
       "    </tr>\n",
       "    <tr>\n",
       "      <th>4</th>\n",
       "      <td>000005.jpg</td>\n",
       "      <td>data/celeba-dataset/img_align_celeba/img_align...</td>\n",
       "      <td>0</td>\n",
       "    </tr>\n",
       "  </tbody>\n",
       "</table>\n",
       "</div>"
      ],
      "text/plain": [
       "     image_id                                           filename  has_glasses\n",
       "0  000001.jpg  data/celeba-dataset/img_align_celeba/img_align...            0\n",
       "1  000002.jpg  data/celeba-dataset/img_align_celeba/img_align...            0\n",
       "2  000003.jpg  data/celeba-dataset/img_align_celeba/img_align...            0\n",
       "3  000004.jpg  data/celeba-dataset/img_align_celeba/img_align...            0\n",
       "4  000005.jpg  data/celeba-dataset/img_align_celeba/img_align...            0"
      ]
     },
     "execution_count": 9,
     "metadata": {},
     "output_type": "execute_result"
    }
   ],
   "source": [
    "celeba_df[['image_id', 'filename', 'has_glasses']].head()"
   ]
  },
  {
   "cell_type": "markdown",
   "metadata": {},
   "source": [
    "# MeGlass Dataset\n",
    "https://github.com/cleardusk/MeGlass"
   ]
  },
  {
   "cell_type": "code",
   "execution_count": 10,
   "metadata": {},
   "outputs": [],
   "source": [
    "dataset_fld = 'data/MeGlass/'\n",
    "img_fld = osp.join(dataset_fld, 'MeGlass_120x120')"
   ]
  },
  {
   "cell_type": "code",
   "execution_count": 11,
   "metadata": {},
   "outputs": [],
   "source": [
    "# meta file with info about glasses\n",
    "fname2glasses = {}\n",
    "with open(osp.join(dataset_fld, 'meta.txt')) as f:\n",
    "    for line in f.readlines():\n",
    "        fname, has_glasses = line.split(' ')\n",
    "        fname2glasses[fname] = int(has_glasses)"
   ]
  },
  {
   "cell_type": "code",
   "execution_count": 12,
   "metadata": {},
   "outputs": [],
   "source": [
    "# create person index\n",
    "dicts = []\n",
    "for fname in os.listdir(img_fld):\n",
    "    uid = fname.split('@')[0]\n",
    "    dicts.append({\n",
    "        'id': uid,\n",
    "        'image_id': fname, \n",
    "        'filename': osp.join(img_fld, fname),\n",
    "        'has_glasses': fname2glasses[fname],\n",
    "        'dataset': 'meglass',\n",
    "    })\n",
    "meglass_df = pd.DataFrame(dicts)"
   ]
  },
  {
   "cell_type": "code",
   "execution_count": 13,
   "metadata": {
    "scrolled": true
   },
   "outputs": [
    {
     "data": {
      "text/html": [
       "<div>\n",
       "<style scoped>\n",
       "    .dataframe tbody tr th:only-of-type {\n",
       "        vertical-align: middle;\n",
       "    }\n",
       "\n",
       "    .dataframe tbody tr th {\n",
       "        vertical-align: top;\n",
       "    }\n",
       "\n",
       "    .dataframe thead th {\n",
       "        text-align: right;\n",
       "    }\n",
       "</style>\n",
       "<table border=\"1\" class=\"dataframe\">\n",
       "  <thead>\n",
       "    <tr style=\"text-align: right;\">\n",
       "      <th></th>\n",
       "      <th>dataset</th>\n",
       "      <th>filename</th>\n",
       "      <th>has_glasses</th>\n",
       "      <th>id</th>\n",
       "      <th>image_id</th>\n",
       "    </tr>\n",
       "  </thead>\n",
       "  <tbody>\n",
       "    <tr>\n",
       "      <th>0</th>\n",
       "      <td>meglass</td>\n",
       "      <td>data/MeGlass/MeGlass_120x120/10032527@N08_iden...</td>\n",
       "      <td>0</td>\n",
       "      <td>10032527</td>\n",
       "      <td>10032527@N08_identity_4@2582182573_0.jpg</td>\n",
       "    </tr>\n",
       "    <tr>\n",
       "      <th>1</th>\n",
       "      <td>meglass</td>\n",
       "      <td>data/MeGlass/MeGlass_120x120/10032527@N08_iden...</td>\n",
       "      <td>0</td>\n",
       "      <td>10032527</td>\n",
       "      <td>10032527@N08_identity_4@2582191559_0.jpg</td>\n",
       "    </tr>\n",
       "    <tr>\n",
       "      <th>2</th>\n",
       "      <td>meglass</td>\n",
       "      <td>data/MeGlass/MeGlass_120x120/10032527@N08_iden...</td>\n",
       "      <td>0</td>\n",
       "      <td>10032527</td>\n",
       "      <td>10032527@N08_identity_4@2582274191_0.jpg</td>\n",
       "    </tr>\n",
       "    <tr>\n",
       "      <th>3</th>\n",
       "      <td>meglass</td>\n",
       "      <td>data/MeGlass/MeGlass_120x120/10032527@N08_iden...</td>\n",
       "      <td>0</td>\n",
       "      <td>10032527</td>\n",
       "      <td>10032527@N08_identity_4@2583119706_0.jpg</td>\n",
       "    </tr>\n",
       "    <tr>\n",
       "      <th>4</th>\n",
       "      <td>meglass</td>\n",
       "      <td>data/MeGlass/MeGlass_120x120/10032527@N08_iden...</td>\n",
       "      <td>1</td>\n",
       "      <td>10032527</td>\n",
       "      <td>10032527@N08_identity_4@2589966003_0.jpg</td>\n",
       "    </tr>\n",
       "  </tbody>\n",
       "</table>\n",
       "</div>"
      ],
      "text/plain": [
       "   dataset                                           filename  has_glasses  \\\n",
       "0  meglass  data/MeGlass/MeGlass_120x120/10032527@N08_iden...            0   \n",
       "1  meglass  data/MeGlass/MeGlass_120x120/10032527@N08_iden...            0   \n",
       "2  meglass  data/MeGlass/MeGlass_120x120/10032527@N08_iden...            0   \n",
       "3  meglass  data/MeGlass/MeGlass_120x120/10032527@N08_iden...            0   \n",
       "4  meglass  data/MeGlass/MeGlass_120x120/10032527@N08_iden...            1   \n",
       "\n",
       "         id                                  image_id  \n",
       "0  10032527  10032527@N08_identity_4@2582182573_0.jpg  \n",
       "1  10032527  10032527@N08_identity_4@2582191559_0.jpg  \n",
       "2  10032527  10032527@N08_identity_4@2582274191_0.jpg  \n",
       "3  10032527  10032527@N08_identity_4@2583119706_0.jpg  \n",
       "4  10032527  10032527@N08_identity_4@2589966003_0.jpg  "
      ]
     },
     "execution_count": 13,
     "metadata": {},
     "output_type": "execute_result"
    }
   ],
   "source": [
    "meglass_df.head()"
   ]
  },
  {
   "cell_type": "markdown",
   "metadata": {},
   "source": [
    "# SoF Dataset\n",
    "https://sites.google.com/view/sof-dataset"
   ]
  },
  {
   "cell_type": "code",
   "execution_count": 14,
   "metadata": {},
   "outputs": [],
   "source": [
    "dataset_fld = 'data/SoF/'\n",
    "img_fld = osp.join(dataset_fld, '640x480')"
   ]
  },
  {
   "cell_type": "code",
   "execution_count": 15,
   "metadata": {},
   "outputs": [],
   "source": [
    "# create person index\n",
    "dicts = []\n",
    "for fname in os.listdir(img_fld):\n",
    "    dicts.append({\n",
    "        'image_id': fname, \n",
    "        'filename': osp.join(img_fld, fname),\n",
    "        'has_glasses': 1,\n",
    "        'dataset': 'sof',\n",
    "    })\n",
    "sof_df = pd.DataFrame(dicts)"
   ]
  },
  {
   "cell_type": "code",
   "execution_count": 16,
   "metadata": {},
   "outputs": [
    {
     "data": {
      "text/html": [
       "<div>\n",
       "<style scoped>\n",
       "    .dataframe tbody tr th:only-of-type {\n",
       "        vertical-align: middle;\n",
       "    }\n",
       "\n",
       "    .dataframe tbody tr th {\n",
       "        vertical-align: top;\n",
       "    }\n",
       "\n",
       "    .dataframe thead th {\n",
       "        text-align: right;\n",
       "    }\n",
       "</style>\n",
       "<table border=\"1\" class=\"dataframe\">\n",
       "  <thead>\n",
       "    <tr style=\"text-align: right;\">\n",
       "      <th></th>\n",
       "      <th>dataset</th>\n",
       "      <th>filename</th>\n",
       "      <th>has_glasses</th>\n",
       "      <th>image_id</th>\n",
       "    </tr>\n",
       "  </thead>\n",
       "  <tbody>\n",
       "    <tr>\n",
       "      <th>0</th>\n",
       "      <td>sof</td>\n",
       "      <td>data/SoF/640x480/AbdA_00001_m_31_i_fr_nc_no_20...</td>\n",
       "      <td>1</td>\n",
       "      <td>AbdA_00001_m_31_i_fr_nc_no_2016_2_e0_nl_o.jpg</td>\n",
       "    </tr>\n",
       "    <tr>\n",
       "      <th>1</th>\n",
       "      <td>sof</td>\n",
       "      <td>data/SoF/640x480/AbdA_00002_m_31_i_fr_nc_sr_20...</td>\n",
       "      <td>1</td>\n",
       "      <td>AbdA_00002_m_31_i_fr_nc_sr_2016_2_e0_nl_o.jpg</td>\n",
       "    </tr>\n",
       "    <tr>\n",
       "      <th>2</th>\n",
       "      <td>sof</td>\n",
       "      <td>data/SoF/640x480/AbdA_00003_m_31_i_fr_nc_hp_20...</td>\n",
       "      <td>1</td>\n",
       "      <td>AbdA_00003_m_31_i_fr_nc_hp_2016_2_e0_nl_o.jpg</td>\n",
       "    </tr>\n",
       "    <tr>\n",
       "      <th>3</th>\n",
       "      <td>sof</td>\n",
       "      <td>data/SoF/640x480/AbdA_00004_m_31_i_fr_nc_hp_20...</td>\n",
       "      <td>1</td>\n",
       "      <td>AbdA_00004_m_31_i_fr_nc_hp_2016_2_e0_nl_o.jpg</td>\n",
       "    </tr>\n",
       "    <tr>\n",
       "      <th>4</th>\n",
       "      <td>sof</td>\n",
       "      <td>data/SoF/640x480/AbdA_00005_m_31_i_fr_nc_hp_20...</td>\n",
       "      <td>1</td>\n",
       "      <td>AbdA_00005_m_31_i_fr_nc_hp_2016_2_e0_nl_o.jpg</td>\n",
       "    </tr>\n",
       "  </tbody>\n",
       "</table>\n",
       "</div>"
      ],
      "text/plain": [
       "  dataset                                           filename  has_glasses  \\\n",
       "0     sof  data/SoF/640x480/AbdA_00001_m_31_i_fr_nc_no_20...            1   \n",
       "1     sof  data/SoF/640x480/AbdA_00002_m_31_i_fr_nc_sr_20...            1   \n",
       "2     sof  data/SoF/640x480/AbdA_00003_m_31_i_fr_nc_hp_20...            1   \n",
       "3     sof  data/SoF/640x480/AbdA_00004_m_31_i_fr_nc_hp_20...            1   \n",
       "4     sof  data/SoF/640x480/AbdA_00005_m_31_i_fr_nc_hp_20...            1   \n",
       "\n",
       "                                        image_id  \n",
       "0  AbdA_00001_m_31_i_fr_nc_no_2016_2_e0_nl_o.jpg  \n",
       "1  AbdA_00002_m_31_i_fr_nc_sr_2016_2_e0_nl_o.jpg  \n",
       "2  AbdA_00003_m_31_i_fr_nc_hp_2016_2_e0_nl_o.jpg  \n",
       "3  AbdA_00004_m_31_i_fr_nc_hp_2016_2_e0_nl_o.jpg  \n",
       "4  AbdA_00005_m_31_i_fr_nc_hp_2016_2_e0_nl_o.jpg  "
      ]
     },
     "execution_count": 16,
     "metadata": {},
     "output_type": "execute_result"
    }
   ],
   "source": [
    "sof_df.head()"
   ]
  },
  {
   "cell_type": "markdown",
   "metadata": {},
   "source": [
    "# SPECFACE Dataset\n",
    "https://sites.google.com/site/specfaceiitkgp"
   ]
  },
  {
   "cell_type": "code",
   "execution_count": 17,
   "metadata": {},
   "outputs": [],
   "source": [
    "dataset_fld = 'data/specface/'"
   ]
  },
  {
   "cell_type": "code",
   "execution_count": 18,
   "metadata": {},
   "outputs": [],
   "source": [
    "dicts = []\n",
    "for i in range(1, 61):\n",
    "    img_fld = osp.join(dataset_fld, f'{i:02}')\n",
    "    for fname in os.listdir(img_fld):\n",
    "        dicts.append({\n",
    "            'image_id': fname, \n",
    "            'filename': osp.join(img_fld, fname),\n",
    "            'has_glasses': 1,\n",
    "            'dataset': 'specface',\n",
    "        })\n",
    "specface_df = pd.DataFrame(dicts)"
   ]
  },
  {
   "cell_type": "code",
   "execution_count": 19,
   "metadata": {},
   "outputs": [
    {
     "data": {
      "text/html": [
       "<div>\n",
       "<style scoped>\n",
       "    .dataframe tbody tr th:only-of-type {\n",
       "        vertical-align: middle;\n",
       "    }\n",
       "\n",
       "    .dataframe tbody tr th {\n",
       "        vertical-align: top;\n",
       "    }\n",
       "\n",
       "    .dataframe thead th {\n",
       "        text-align: right;\n",
       "    }\n",
       "</style>\n",
       "<table border=\"1\" class=\"dataframe\">\n",
       "  <thead>\n",
       "    <tr style=\"text-align: right;\">\n",
       "      <th></th>\n",
       "      <th>dataset</th>\n",
       "      <th>filename</th>\n",
       "      <th>has_glasses</th>\n",
       "      <th>image_id</th>\n",
       "    </tr>\n",
       "  </thead>\n",
       "  <tbody>\n",
       "    <tr>\n",
       "      <th>0</th>\n",
       "      <td>specface</td>\n",
       "      <td>data/specface/01/image (1).jpg</td>\n",
       "      <td>1</td>\n",
       "      <td>image (1).jpg</td>\n",
       "    </tr>\n",
       "    <tr>\n",
       "      <th>1</th>\n",
       "      <td>specface</td>\n",
       "      <td>data/specface/01/image (2).jpg</td>\n",
       "      <td>1</td>\n",
       "      <td>image (2).jpg</td>\n",
       "    </tr>\n",
       "    <tr>\n",
       "      <th>2</th>\n",
       "      <td>specface</td>\n",
       "      <td>data/specface/01/image (3).jpg</td>\n",
       "      <td>1</td>\n",
       "      <td>image (3).jpg</td>\n",
       "    </tr>\n",
       "    <tr>\n",
       "      <th>3</th>\n",
       "      <td>specface</td>\n",
       "      <td>data/specface/01/image (4).jpg</td>\n",
       "      <td>1</td>\n",
       "      <td>image (4).jpg</td>\n",
       "    </tr>\n",
       "    <tr>\n",
       "      <th>4</th>\n",
       "      <td>specface</td>\n",
       "      <td>data/specface/02/image (1).jpg</td>\n",
       "      <td>1</td>\n",
       "      <td>image (1).jpg</td>\n",
       "    </tr>\n",
       "  </tbody>\n",
       "</table>\n",
       "</div>"
      ],
      "text/plain": [
       "    dataset                        filename  has_glasses       image_id\n",
       "0  specface  data/specface/01/image (1).jpg            1  image (1).jpg\n",
       "1  specface  data/specface/01/image (2).jpg            1  image (2).jpg\n",
       "2  specface  data/specface/01/image (3).jpg            1  image (3).jpg\n",
       "3  specface  data/specface/01/image (4).jpg            1  image (4).jpg\n",
       "4  specface  data/specface/02/image (1).jpg            1  image (1).jpg"
      ]
     },
     "execution_count": 19,
     "metadata": {},
     "output_type": "execute_result"
    }
   ],
   "source": [
    "specface_df.head()"
   ]
  },
  {
   "cell_type": "markdown",
   "metadata": {},
   "source": [
    "# Concatenated dataset"
   ]
  },
  {
   "cell_type": "code",
   "execution_count": 25,
   "metadata": {},
   "outputs": [],
   "source": [
    "final_cols = ['dataset', 'image_id', 'has_glasses', 'filename']\n",
    "df = pd.concat([celeba_df, specface_df, sof_df, meglass_df], ignore_index=True, sort=False)[final_cols]"
   ]
  },
  {
   "cell_type": "code",
   "execution_count": 26,
   "metadata": {},
   "outputs": [
    {
     "data": {
      "text/plain": [
       "dataset   has_glasses\n",
       "celeba    0              189406\n",
       "          1               13193\n",
       "meglass   0               33085\n",
       "          1               14832\n",
       "sof       1                2428\n",
       "specface  1                 320\n",
       "dtype: int64"
      ]
     },
     "execution_count": 26,
     "metadata": {},
     "output_type": "execute_result"
    }
   ],
   "source": [
    "df.groupby(['dataset', 'has_glasses']).size()"
   ]
  },
  {
   "cell_type": "markdown",
   "metadata": {},
   "source": [
    "# Crop and save faces with dlib"
   ]
  },
  {
   "cell_type": "code",
   "execution_count": 30,
   "metadata": {},
   "outputs": [],
   "source": [
    "import cv2\n",
    "from tqdm.auto import tqdm\n",
    "from modules.common import par_apply\n",
    "from modules.utils import crop_img, open_img, resize_shortest_edge"
   ]
  },
  {
   "cell_type": "code",
   "execution_count": 31,
   "metadata": {},
   "outputs": [],
   "source": [
    "def get_random_image(fld):\n",
    "    fname = random.sample(os.listdir(fld), 1)[0]\n",
    "    fp = osp.join(fld, fname)\n",
    "    img = open_img(fp)\n",
    "    return img"
   ]
  },
  {
   "cell_type": "code",
   "execution_count": 33,
   "metadata": {
    "scrolled": true
   },
   "outputs": [
    {
     "data": {
      "text/html": [
       "<div>\n",
       "<style scoped>\n",
       "    .dataframe tbody tr th:only-of-type {\n",
       "        vertical-align: middle;\n",
       "    }\n",
       "\n",
       "    .dataframe tbody tr th {\n",
       "        vertical-align: top;\n",
       "    }\n",
       "\n",
       "    .dataframe thead th {\n",
       "        text-align: right;\n",
       "    }\n",
       "</style>\n",
       "<table border=\"1\" class=\"dataframe\">\n",
       "  <thead>\n",
       "    <tr style=\"text-align: right;\">\n",
       "      <th></th>\n",
       "      <th>dataset</th>\n",
       "      <th>image_id</th>\n",
       "      <th>has_glasses</th>\n",
       "      <th>filename</th>\n",
       "    </tr>\n",
       "  </thead>\n",
       "  <tbody>\n",
       "    <tr>\n",
       "      <th>132961</th>\n",
       "      <td>celeba</td>\n",
       "      <td>132962.jpg</td>\n",
       "      <td>0</td>\n",
       "      <td>data/celeba-dataset/img_align_celeba/img_align...</td>\n",
       "    </tr>\n",
       "  </tbody>\n",
       "</table>\n",
       "</div>"
      ],
      "text/plain": [
       "       dataset    image_id  has_glasses  \\\n",
       "132961  celeba  132962.jpg            0   \n",
       "\n",
       "                                                 filename  \n",
       "132961  data/celeba-dataset/img_align_celeba/img_align...  "
      ]
     },
     "execution_count": 33,
     "metadata": {},
     "output_type": "execute_result"
    },
    {
     "data": {
      "image/png": "[encoded data removed]",
      "text/plain": [
       "<Figure size 432x288 with 1 Axes>"
      ]
     },
     "metadata": {
      "needs_background": "light"
     },
     "output_type": "display_data"
    }
   ],
   "source": [
    "sample_row = df[df.dataset == 'celeba'].sample(1)\n",
    "fp = sample_row.filename.iloc[0]\n",
    "img = open_img(fp)\n",
    "img = resize_shortest_edge(img, 800, 600)\n",
    "plt.imshow(img)\n",
    "sample_row"
   ]
  },
  {
   "cell_type": "code",
   "execution_count": 34,
   "metadata": {},
   "outputs": [
    {
     "data": {
      "text/plain": [
       "<matplotlib.image.AxesImage at 0x7f3a939dda10>"
      ]
     },
     "execution_count": 34,
     "metadata": {},
     "output_type": "execute_result"
    },
    {
     "data": {
      "image/png": "[encoded data removed]",
      "text/plain": [
       "<Figure size 432x288 with 1 Axes>"
      ]
     },
     "metadata": {
      "needs_background": "light"
     },
     "output_type": "display_data"
    }
   ],
   "source": [
    "crop = crop_img(img)\n",
    "crop = cv2.resize(crop, (120, 120))\n",
    "plt.imshow(crop)"
   ]
  },
  {
   "cell_type": "code",
   "execution_count": 189,
   "metadata": {},
   "outputs": [],
   "source": [
    "fld = 'data/crops/'\n",
    "\n",
    "def process(data):\n",
    "    try:\n",
    "        ind, row = data\n",
    "        img = open_img(row.filename)\n",
    "        if img.shape[0] > 600 or img.shape[1] > 600:\n",
    "            img = resize_shortest_edge(img, 800, 600)\n",
    "        crop = crop_img(img)\n",
    "        crop = cv2.resize(crop, (120, 120))\n",
    "        crop_fp = osp.join(fld, f'{ind:06}.jpg')\n",
    "        plt.imsave(crop_fp, crop)\n",
    "    except Exception as e:\n",
    "        print(e)"
   ]
  },
  {
   "cell_type": "code",
   "execution_count": null,
   "metadata": {},
   "outputs": [],
   "source": [
    "par_apply(df.iterrows(), process, length=len(df), verbose=1, n_jobs=4)"
   ]
  },
  {
   "cell_type": "code",
   "execution_count": 233,
   "metadata": {},
   "outputs": [],
   "source": [
    "crop_paths = [osp.join(fld, f'{i:06}.jpg') for i in df.index]\n",
    "df['crop_path'] = crop_paths"
   ]
  },
  {
   "cell_type": "markdown",
   "metadata": {},
   "source": [
    "# Split dataset"
   ]
  },
  {
   "cell_type": "code",
   "execution_count": 35,
   "metadata": {},
   "outputs": [],
   "source": [
    "from sklearn.model_selection import GroupKFold, StratifiedKFold"
   ]
  },
  {
   "cell_type": "code",
   "execution_count": 36,
   "metadata": {},
   "outputs": [],
   "source": [
    "df['fold_num'] = -1\n",
    "kfold = StratifiedKFold(n_splits=5, random_state=88)\n",
    "for fold_num, (train_ids, valid_ids) in enumerate(kfold.split(df.index, y=df.dataset)):\n",
    "    df.loc[valid_ids, 'fold_num'] = fold_num\n",
    "    \n",
    "df.to_csv('data/all.csv', index=False)"
   ]
  },
  {
   "cell_type": "code",
   "execution_count": 37,
   "metadata": {},
   "outputs": [
    {
     "data": {
      "text/plain": [
       "fold_num  dataset   has_glasses\n",
       "0         celeba    0              37899\n",
       "                    1               2621\n",
       "          meglass   0               7764\n",
       "                    1               1820\n",
       "          sof       1                486\n",
       "          specface  1                 64\n",
       "1         celeba    0              37861\n",
       "                    1               2659\n",
       "          meglass   0               7664\n",
       "                    1               1920\n",
       "          sof       1                486\n",
       "          specface  1                 64\n",
       "2         celeba    0              37953\n",
       "                    1               2567\n",
       "          meglass   0               7791\n",
       "                    1               1792\n",
       "          sof       1                486\n",
       "          specface  1                 64\n",
       "3         celeba    0              37892\n",
       "                    1               2628\n",
       "          meglass   0               5975\n",
       "                    1               3608\n",
       "          sof       1                485\n",
       "          specface  1                 64\n",
       "4         celeba    0              37801\n",
       "                    1               2718\n",
       "          meglass   0               3891\n",
       "                    1               5692\n",
       "          sof       1                485\n",
       "          specface  1                 64\n",
       "dtype: int64"
      ]
     },
     "execution_count": 37,
     "metadata": {},
     "output_type": "execute_result"
    }
   ],
   "source": [
    "df.groupby(['fold_num', 'dataset', 'has_glasses']).size()"
   ]
  }
 ],
 "metadata": {
  "kernelspec": {
   "display_name": "Python 3",
   "language": "python",
   "name": "python3"
  },
  "language_info": {
   "codemirror_mode": {
    "name": "ipython",
    "version": 3
   },
   "file_extension": ".py",
   "mimetype": "text/x-python",
   "name": "python",
   "nbconvert_exporter": "python",
   "pygments_lexer": "ipython3",
   "version": "3.7.4"
  }
 },
 "nbformat": 4,
 "nbformat_minor": 2
}
